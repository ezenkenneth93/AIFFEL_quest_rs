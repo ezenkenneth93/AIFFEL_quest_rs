{
 "cells": [
  {
   "cell_type": "code",
   "execution_count": 2,
   "id": "029333d8",
   "metadata": {},
   "outputs": [],
   "source": [
    "from sklearn.datasets import load_diabetes\n",
    "from sklearn.model_selection import train_test_split\n",
    "import pandas as pd\n",
    "import numpy as np\n",
    "import matplotlib.pyplot as plt"
   ]
  },
  {
   "cell_type": "code",
   "execution_count": 22,
   "id": "1f5c0cc2",
   "metadata": {},
   "outputs": [
    {
     "name": "stdout",
     "output_type": "stream",
     "text": [
      "dict_keys(['data', 'target', 'frame', 'DESCR', 'feature_names', 'data_filename', 'target_filename', 'data_module'])\n",
      "[[ 0.03807591  0.05068012  0.06169621  0.02187235 -0.0442235  -0.03482076\n",
      "  -0.04340085 -0.00259226  0.01990842 -0.01764613]\n",
      " [-0.00188202 -0.04464164 -0.05147406 -0.02632783 -0.00844872 -0.01916334\n",
      "   0.07441156 -0.03949338 -0.06832974 -0.09220405]\n",
      " [ 0.08529891  0.05068012  0.04445121 -0.00567061 -0.04559945 -0.03419447\n",
      "  -0.03235593 -0.00259226  0.00286377 -0.02593034]\n",
      " [-0.08906294 -0.04464164 -0.01159501 -0.03665645  0.01219057  0.02499059\n",
      "  -0.03603757  0.03430886  0.02269202 -0.00936191]\n",
      " [ 0.00538306 -0.04464164 -0.03638469  0.02187235  0.00393485  0.01559614\n",
      "   0.00814208 -0.00259226 -0.03199144 -0.04664087]]\n"
     ]
    }
   ],
   "source": [
    "# sklearn.datasets의 load_diabetes에서 데이터를 가져와주세요.\n",
    "# diabetes의 data를 df_X에, target을 df_y에 저장해주세요\n",
    "\n",
    "diabetes = load_diabetes()\n",
    "print(diabetes.keys())\n",
    "df_X = diabetes.data\n",
    "df_y = diabetes.target\n",
    "\n",
    "print(df_X[:5])"
   ]
  },
  {
   "cell_type": "code",
   "execution_count": 5,
   "id": "018281d5",
   "metadata": {},
   "outputs": [],
   "source": [
    "# df_X에 있는 값들을 numpy array로 변환해서 저장해주세요.\n",
    "# df_y에 있는 값들을 numpy array로 변환해서 저장해주세요.\n",
    "\n",
    "df_X = np.array(df_X)\n",
    "df_y = np.array(df_y)"
   ]
  },
  {
   "cell_type": "code",
   "execution_count": 6,
   "id": "2b939469",
   "metadata": {},
   "outputs": [
    {
     "name": "stdout",
     "output_type": "stream",
     "text": [
      "(331, 10) (331,)\n",
      "(111, 10) (111,)\n"
     ]
    }
   ],
   "source": [
    "# X와 y 데이터를 각각 train 데이터와 test 데이터로 분리해주세요.\n",
    "\n",
    "X_train, X_test, y_train, y_test = train_test_split(df_X, df_y)\n",
    "print(X_train.shape, y_train.shape)\n",
    "print(X_test.shape, y_test.shape)"
   ]
  },
  {
   "cell_type": "code",
   "execution_count": 28,
   "id": "b3cd14d6",
   "metadata": {},
   "outputs": [
    {
     "name": "stdout",
     "output_type": "stream",
     "text": [
      "[ 0.87589921  1.73694156 -0.52321839 -0.15329075  1.03335525 -0.63892168\n",
      " -0.30611443  1.08659131  0.56883404 -0.70830353] [2.2026083]\n"
     ]
    }
   ],
   "source": [
    "# 입력 데이터 개수에 맞는 가중치 W와 b를 준비해주세요.\n",
    "# 모델 함수를 구현해주세요.\n",
    "\n",
    "W = np.random.randn(10)\n",
    "b = np.random.randn(1)\n",
    "print(W, b)\n",
    "\n",
    "# 반환되는 prediction은 target과 크기가 같은 벡터이다.\n",
    "def model(X, W, b):\n",
    "    predictions = 0\n",
    "    for i in range(10):\n",
    "        predictions += X[:, i] * W[i]\n",
    "    predictions += b\n",
    "    return predictions"
   ]
  },
  {
   "cell_type": "code",
   "execution_count": 29,
   "id": "6703a993",
   "metadata": {},
   "outputs": [],
   "source": [
    "# 손실함수를 MSE 함수로 정의해주세요.\n",
    "def loss(X, W, b, y):\n",
    "    L = 0\n",
    "    N = len(y)\n",
    "    y_pred = model(X, W, b)   # 예측값 벡터\n",
    "    for i in range(len(y)):\n",
    "        L += (y_pred[i] - y[i])**2\n",
    "    return L/N"
   ]
  },
  {
   "cell_type": "code",
   "execution_count": 30,
   "id": "88895f25",
   "metadata": {},
   "outputs": [],
   "source": [
    "# 기울기를 계산하는 gradient 함수를 구현해주세요.\n",
    "def gradient(X, W, b, y):\n",
    "    N = len(y)\n",
    "    y_pred = model(X, W, b)\n",
    "    dW = 1/N * 2 * X.T.dot(y_pred - y)\n",
    "    db = 2 * (y_pred - y).mean()\n",
    "    return dW, db"
   ]
  },
  {
   "cell_type": "code",
   "execution_count": 38,
   "id": "10d9f656",
   "metadata": {},
   "outputs": [
    {
     "name": "stdout",
     "output_type": "stream",
     "text": [
      "Iteration 100 : Loss 2727.3855\n",
      "Iteration 200 : Loss 2727.3854\n",
      "Iteration 300 : Loss 2727.3853\n",
      "Iteration 400 : Loss 2727.3853\n",
      "Iteration 500 : Loss 2727.3852\n",
      "Iteration 600 : Loss 2727.3852\n",
      "Iteration 700 : Loss 2727.3851\n",
      "Iteration 800 : Loss 2727.3851\n",
      "Iteration 900 : Loss 2727.3850\n",
      "Iteration 1000 : Loss 2727.3849\n"
     ]
    }
   ],
   "source": [
    "# 학습률, learning rate 를 설정해주세요\n",
    "# 만약 학습이 잘 되지 않는다면 learning rate 값을 한번 여러 가지로 설정하며 실험해 보세요.\n",
    "\n",
    "LEARNING_RATE = 0.001\n",
    "losses = []\n",
    "\n",
    "for i in range(1, 1001):\n",
    "    dW, db = gradient(X_train, W, b, y_train)\n",
    "    W -= LEARNING_RATE * dW\n",
    "    b -= LEARNING_RATE * db\n",
    "    L = loss(X_train, W, b, y_train)\n",
    "    losses.append(L)\n",
    "    if i % 100 == 0:\n",
    "        print('Iteration %d : Loss %0.4f' % (i, L))\n",
    "    "
   ]
  },
  {
   "cell_type": "code",
   "execution_count": 39,
   "id": "feb4bfa8",
   "metadata": {},
   "outputs": [
    {
     "data": {
      "text/plain": [
       "3397.8011287724994"
      ]
     },
     "execution_count": 39,
     "metadata": {},
     "output_type": "execute_result"
    }
   ],
   "source": [
    "# test 데이터에 대한 성능을 확인해주세요.\n",
    "prediction = model(X_test, W, b)\n",
    "mse = loss(X_test, W, b, y_test)\n",
    "mse"
   ]
  },
  {
   "cell_type": "code",
   "execution_count": 42,
   "id": "0f6b488b",
   "metadata": {},
   "outputs": [
    {
     "data": {
      "image/png": "[encoded data removed]",
      "text/plain": [
       "<Figure size 432x288 with 1 Axes>"
      ]
     },
     "metadata": {
      "needs_background": "light"
     },
     "output_type": "display_data"
    }
   ],
   "source": [
    "# x축에는 X 데이터의 첫 번째 컬럼을, y축에는 정답인 target 데이터를 \n",
    "# 넣어서 모델이 예측한 데이터를 시각화해 주세요.\n",
    "plt.scatter(X_test[:, 0], y_test, color='g')\n",
    "plt.scatter(X_test[:, 0], prediction, color='y')\n",
    "plt.show()"
   ]
  },
  {
   "cell_type": "code",
   "execution_count": null,
   "id": "6bba1fca",
   "metadata": {},
   "outputs": [],
   "source": []
  }
 ],
 "metadata": {
  "kernelspec": {
   "display_name": "Python 3 (ipykernel)",
   "language": "python",
   "name": "python3"
  },
  "language_info": {
   "codemirror_mode": {
    "name": "ipython",
    "version": 3
   },
   "file_extension": ".py",
   "mimetype": "text/x-python",
   "name": "python",
   "nbconvert_exporter": "python",
   "pygments_lexer": "ipython3",
   "version": "3.9.7"
  }
 },
 "nbformat": 4,
 "nbformat_minor": 5
}
